{
 "cells": [
  {
   "cell_type": "markdown",
   "metadata": {},
   "source": [
    "**BIG BIG HINT! Look in the instructions to guide you on this task.**"
   ]
  },
  {
   "cell_type": "code",
   "execution_count": 1,
   "metadata": {},
   "outputs": [],
   "source": [
    "# Dependencies\n",
    "import pandas as pd\n",
    "import numpy as np"
   ]
  },
  {
   "cell_type": "code",
   "execution_count": 2,
   "metadata": {},
   "outputs": [],
   "source": [
    "# load CSV\n",
    "coders = \"Resources/2016-FCC-New-Coders-Survey-Data.csv\""
   ]
  },
  {
   "cell_type": "code",
   "execution_count": 3,
   "metadata": {},
   "outputs": [
    {
     "data": {
      "text/html": [
       "<div>\n",
       "<style scoped>\n",
       "    .dataframe tbody tr th:only-of-type {\n",
       "        vertical-align: middle;\n",
       "    }\n",
       "\n",
       "    .dataframe tbody tr th {\n",
       "        vertical-align: top;\n",
       "    }\n",
       "\n",
       "    .dataframe thead th {\n",
       "        text-align: right;\n",
       "    }\n",
       "</style>\n",
       "<table border=\"1\" class=\"dataframe\">\n",
       "  <thead>\n",
       "    <tr style=\"text-align: right;\">\n",
       "      <th></th>\n",
       "      <th>Age</th>\n",
       "      <th>AttendedBootcamp</th>\n",
       "      <th>BootcampFinish</th>\n",
       "      <th>BootcampFullJobAfter</th>\n",
       "      <th>BootcampLoanYesNo</th>\n",
       "      <th>BootcampMonthsAgo</th>\n",
       "      <th>BootcampName</th>\n",
       "      <th>BootcampPostSalary</th>\n",
       "      <th>BootcampRecommend</th>\n",
       "      <th>ChildrenNumber</th>\n",
       "      <th>...</th>\n",
       "      <th>ResourceSoloLearn</th>\n",
       "      <th>ResourceStackOverflow</th>\n",
       "      <th>ResourceTreehouse</th>\n",
       "      <th>ResourceUdacity</th>\n",
       "      <th>ResourceUdemy</th>\n",
       "      <th>ResourceW3Schools</th>\n",
       "      <th>ResourceYouTube</th>\n",
       "      <th>SchoolDegree</th>\n",
       "      <th>SchoolMajor</th>\n",
       "      <th>StudentDebtOwe</th>\n",
       "    </tr>\n",
       "  </thead>\n",
       "  <tbody>\n",
       "    <tr>\n",
       "      <th>0</th>\n",
       "      <td>28.0</td>\n",
       "      <td>0.0</td>\n",
       "      <td>NaN</td>\n",
       "      <td>NaN</td>\n",
       "      <td>NaN</td>\n",
       "      <td>NaN</td>\n",
       "      <td>NaN</td>\n",
       "      <td>NaN</td>\n",
       "      <td>NaN</td>\n",
       "      <td>NaN</td>\n",
       "      <td>...</td>\n",
       "      <td>NaN</td>\n",
       "      <td>NaN</td>\n",
       "      <td>NaN</td>\n",
       "      <td>NaN</td>\n",
       "      <td>NaN</td>\n",
       "      <td>NaN</td>\n",
       "      <td>NaN</td>\n",
       "      <td>some college credit, no degree</td>\n",
       "      <td>NaN</td>\n",
       "      <td>20000.0</td>\n",
       "    </tr>\n",
       "    <tr>\n",
       "      <th>1</th>\n",
       "      <td>22.0</td>\n",
       "      <td>0.0</td>\n",
       "      <td>NaN</td>\n",
       "      <td>NaN</td>\n",
       "      <td>NaN</td>\n",
       "      <td>NaN</td>\n",
       "      <td>NaN</td>\n",
       "      <td>NaN</td>\n",
       "      <td>NaN</td>\n",
       "      <td>NaN</td>\n",
       "      <td>...</td>\n",
       "      <td>NaN</td>\n",
       "      <td>NaN</td>\n",
       "      <td>NaN</td>\n",
       "      <td>NaN</td>\n",
       "      <td>1.0</td>\n",
       "      <td>NaN</td>\n",
       "      <td>NaN</td>\n",
       "      <td>some college credit, no degree</td>\n",
       "      <td>NaN</td>\n",
       "      <td>NaN</td>\n",
       "    </tr>\n",
       "    <tr>\n",
       "      <th>2</th>\n",
       "      <td>19.0</td>\n",
       "      <td>0.0</td>\n",
       "      <td>NaN</td>\n",
       "      <td>NaN</td>\n",
       "      <td>NaN</td>\n",
       "      <td>NaN</td>\n",
       "      <td>NaN</td>\n",
       "      <td>NaN</td>\n",
       "      <td>NaN</td>\n",
       "      <td>NaN</td>\n",
       "      <td>...</td>\n",
       "      <td>NaN</td>\n",
       "      <td>NaN</td>\n",
       "      <td>NaN</td>\n",
       "      <td>NaN</td>\n",
       "      <td>NaN</td>\n",
       "      <td>NaN</td>\n",
       "      <td>NaN</td>\n",
       "      <td>high school diploma or equivalent (GED)</td>\n",
       "      <td>NaN</td>\n",
       "      <td>NaN</td>\n",
       "    </tr>\n",
       "    <tr>\n",
       "      <th>3</th>\n",
       "      <td>26.0</td>\n",
       "      <td>0.0</td>\n",
       "      <td>NaN</td>\n",
       "      <td>NaN</td>\n",
       "      <td>NaN</td>\n",
       "      <td>NaN</td>\n",
       "      <td>NaN</td>\n",
       "      <td>NaN</td>\n",
       "      <td>NaN</td>\n",
       "      <td>NaN</td>\n",
       "      <td>...</td>\n",
       "      <td>NaN</td>\n",
       "      <td>NaN</td>\n",
       "      <td>NaN</td>\n",
       "      <td>NaN</td>\n",
       "      <td>NaN</td>\n",
       "      <td>NaN</td>\n",
       "      <td>NaN</td>\n",
       "      <td>bachelor's degree</td>\n",
       "      <td>Cinematography And Film</td>\n",
       "      <td>7000.0</td>\n",
       "    </tr>\n",
       "    <tr>\n",
       "      <th>4</th>\n",
       "      <td>20.0</td>\n",
       "      <td>0.0</td>\n",
       "      <td>NaN</td>\n",
       "      <td>NaN</td>\n",
       "      <td>NaN</td>\n",
       "      <td>NaN</td>\n",
       "      <td>NaN</td>\n",
       "      <td>NaN</td>\n",
       "      <td>NaN</td>\n",
       "      <td>NaN</td>\n",
       "      <td>...</td>\n",
       "      <td>NaN</td>\n",
       "      <td>NaN</td>\n",
       "      <td>NaN</td>\n",
       "      <td>NaN</td>\n",
       "      <td>NaN</td>\n",
       "      <td>NaN</td>\n",
       "      <td>NaN</td>\n",
       "      <td>some college credit, no degree</td>\n",
       "      <td>NaN</td>\n",
       "      <td>NaN</td>\n",
       "    </tr>\n",
       "  </tbody>\n",
       "</table>\n",
       "<p>5 rows × 113 columns</p>\n",
       "</div>"
      ],
      "text/plain": [
       "    Age  AttendedBootcamp  BootcampFinish  BootcampFullJobAfter  \\\n",
       "0  28.0               0.0             NaN                   NaN   \n",
       "1  22.0               0.0             NaN                   NaN   \n",
       "2  19.0               0.0             NaN                   NaN   \n",
       "3  26.0               0.0             NaN                   NaN   \n",
       "4  20.0               0.0             NaN                   NaN   \n",
       "\n",
       "   BootcampLoanYesNo  BootcampMonthsAgo BootcampName  BootcampPostSalary  \\\n",
       "0                NaN                NaN          NaN                 NaN   \n",
       "1                NaN                NaN          NaN                 NaN   \n",
       "2                NaN                NaN          NaN                 NaN   \n",
       "3                NaN                NaN          NaN                 NaN   \n",
       "4                NaN                NaN          NaN                 NaN   \n",
       "\n",
       "   BootcampRecommend  ChildrenNumber  ... ResourceSoloLearn  \\\n",
       "0                NaN             NaN  ...               NaN   \n",
       "1                NaN             NaN  ...               NaN   \n",
       "2                NaN             NaN  ...               NaN   \n",
       "3                NaN             NaN  ...               NaN   \n",
       "4                NaN             NaN  ...               NaN   \n",
       "\n",
       "   ResourceStackOverflow  ResourceTreehouse  ResourceUdacity  ResourceUdemy  \\\n",
       "0                    NaN                NaN              NaN            NaN   \n",
       "1                    NaN                NaN              NaN            1.0   \n",
       "2                    NaN                NaN              NaN            NaN   \n",
       "3                    NaN                NaN              NaN            NaN   \n",
       "4                    NaN                NaN              NaN            NaN   \n",
       "\n",
       "   ResourceW3Schools  ResourceYouTube  \\\n",
       "0                NaN              NaN   \n",
       "1                NaN              NaN   \n",
       "2                NaN              NaN   \n",
       "3                NaN              NaN   \n",
       "4                NaN              NaN   \n",
       "\n",
       "                              SchoolDegree              SchoolMajor  \\\n",
       "0           some college credit, no degree                      NaN   \n",
       "1           some college credit, no degree                      NaN   \n",
       "2  high school diploma or equivalent (GED)                      NaN   \n",
       "3                        bachelor's degree  Cinematography And Film   \n",
       "4           some college credit, no degree                      NaN   \n",
       "\n",
       "   StudentDebtOwe  \n",
       "0         20000.0  \n",
       "1             NaN  \n",
       "2             NaN  \n",
       "3          7000.0  \n",
       "4             NaN  \n",
       "\n",
       "[5 rows x 113 columns]"
      ]
     },
     "execution_count": 3,
     "metadata": {},
     "output_type": "execute_result"
    }
   ],
   "source": [
    "# Read with pandas\n",
    "coders_df = pd.read_csv(coders, low_memory=False)\n",
    "coders_df.head()"
   ]
  },
  {
   "cell_type": "code",
   "execution_count": 4,
   "metadata": {},
   "outputs": [
    {
     "data": {
      "text/plain": [
       "Index(['Age', 'AttendedBootcamp', 'BootcampFinish', 'BootcampFullJobAfter',\n",
       "       'BootcampLoanYesNo', 'BootcampMonthsAgo', 'BootcampName',\n",
       "       'BootcampPostSalary', 'BootcampRecommend', 'ChildrenNumber',\n",
       "       ...\n",
       "       'ResourceSoloLearn', 'ResourceStackOverflow', 'ResourceTreehouse',\n",
       "       'ResourceUdacity', 'ResourceUdemy', 'ResourceW3Schools',\n",
       "       'ResourceYouTube', 'SchoolDegree', 'SchoolMajor', 'StudentDebtOwe'],\n",
       "      dtype='object', length=113)"
      ]
     },
     "execution_count": 4,
     "metadata": {},
     "output_type": "execute_result"
    }
   ],
   "source": [
    "# Inspect all columns\n",
    "coders_df.columns"
   ]
  },
  {
   "cell_type": "code",
   "execution_count": 5,
   "metadata": {},
   "outputs": [
    {
     "data": {
      "text/html": [
       "<div>\n",
       "<style scoped>\n",
       "    .dataframe tbody tr th:only-of-type {\n",
       "        vertical-align: middle;\n",
       "    }\n",
       "\n",
       "    .dataframe tbody tr th {\n",
       "        vertical-align: top;\n",
       "    }\n",
       "\n",
       "    .dataframe thead th {\n",
       "        text-align: right;\n",
       "    }\n",
       "</style>\n",
       "<table border=\"1\" class=\"dataframe\">\n",
       "  <thead>\n",
       "    <tr style=\"text-align: right;\">\n",
       "      <th></th>\n",
       "      <th>Age</th>\n",
       "      <th>AttendedBootcamp</th>\n",
       "      <th>BootcampFinish</th>\n",
       "      <th>BootcampFullJobAfter</th>\n",
       "      <th>BootcampLoanYesNo</th>\n",
       "      <th>BootcampPostSalary</th>\n",
       "      <th>BootcampRecommend</th>\n",
       "      <th>ChildrenNumber</th>\n",
       "      <th>CityPopulation</th>\n",
       "      <th>CodeEventBootcamp</th>\n",
       "      <th>CountryLive</th>\n",
       "      <th>EmploymentField</th>\n",
       "      <th>EmploymentStatus</th>\n",
       "      <th>Gender</th>\n",
       "      <th>HasChildren</th>\n",
       "      <th>HoursLearning</th>\n",
       "      <th>Income</th>\n",
       "      <th>JobRoleInterest</th>\n",
       "      <th>SchoolDegree</th>\n",
       "      <th>SchoolMajor</th>\n",
       "    </tr>\n",
       "  </thead>\n",
       "  <tbody>\n",
       "    <tr>\n",
       "      <th>0</th>\n",
       "      <td>28.0</td>\n",
       "      <td>0.0</td>\n",
       "      <td>NaN</td>\n",
       "      <td>NaN</td>\n",
       "      <td>NaN</td>\n",
       "      <td>NaN</td>\n",
       "      <td>NaN</td>\n",
       "      <td>NaN</td>\n",
       "      <td>between 100,000 and 1 million</td>\n",
       "      <td>NaN</td>\n",
       "      <td>United States of America</td>\n",
       "      <td>office and administrative support</td>\n",
       "      <td>Employed for wages</td>\n",
       "      <td>male</td>\n",
       "      <td>0.0</td>\n",
       "      <td>30.0</td>\n",
       "      <td>32000.0</td>\n",
       "      <td>NaN</td>\n",
       "      <td>some college credit, no degree</td>\n",
       "      <td>NaN</td>\n",
       "    </tr>\n",
       "    <tr>\n",
       "      <th>1</th>\n",
       "      <td>22.0</td>\n",
       "      <td>0.0</td>\n",
       "      <td>NaN</td>\n",
       "      <td>NaN</td>\n",
       "      <td>NaN</td>\n",
       "      <td>NaN</td>\n",
       "      <td>NaN</td>\n",
       "      <td>NaN</td>\n",
       "      <td>between 100,000 and 1 million</td>\n",
       "      <td>NaN</td>\n",
       "      <td>United States of America</td>\n",
       "      <td>food and beverage</td>\n",
       "      <td>Employed for wages</td>\n",
       "      <td>male</td>\n",
       "      <td>NaN</td>\n",
       "      <td>30.0</td>\n",
       "      <td>15000.0</td>\n",
       "      <td>Front-End Web Developer</td>\n",
       "      <td>some college credit, no degree</td>\n",
       "      <td>NaN</td>\n",
       "    </tr>\n",
       "    <tr>\n",
       "      <th>2</th>\n",
       "      <td>19.0</td>\n",
       "      <td>0.0</td>\n",
       "      <td>NaN</td>\n",
       "      <td>NaN</td>\n",
       "      <td>NaN</td>\n",
       "      <td>NaN</td>\n",
       "      <td>NaN</td>\n",
       "      <td>NaN</td>\n",
       "      <td>more than 1 million</td>\n",
       "      <td>NaN</td>\n",
       "      <td>United States of America</td>\n",
       "      <td>finance</td>\n",
       "      <td>Employed for wages</td>\n",
       "      <td>male</td>\n",
       "      <td>NaN</td>\n",
       "      <td>20.0</td>\n",
       "      <td>48000.0</td>\n",
       "      <td>NaN</td>\n",
       "      <td>high school diploma or equivalent (GED)</td>\n",
       "      <td>NaN</td>\n",
       "    </tr>\n",
       "    <tr>\n",
       "      <th>3</th>\n",
       "      <td>26.0</td>\n",
       "      <td>0.0</td>\n",
       "      <td>NaN</td>\n",
       "      <td>NaN</td>\n",
       "      <td>NaN</td>\n",
       "      <td>NaN</td>\n",
       "      <td>NaN</td>\n",
       "      <td>NaN</td>\n",
       "      <td>more than 1 million</td>\n",
       "      <td>NaN</td>\n",
       "      <td>United States of America</td>\n",
       "      <td>arts, entertainment, sports, or media</td>\n",
       "      <td>Employed for wages</td>\n",
       "      <td>female</td>\n",
       "      <td>NaN</td>\n",
       "      <td>20.0</td>\n",
       "      <td>43000.0</td>\n",
       "      <td>Front-End Web Developer</td>\n",
       "      <td>bachelor's degree</td>\n",
       "      <td>Cinematography And Film</td>\n",
       "    </tr>\n",
       "    <tr>\n",
       "      <th>4</th>\n",
       "      <td>20.0</td>\n",
       "      <td>0.0</td>\n",
       "      <td>NaN</td>\n",
       "      <td>NaN</td>\n",
       "      <td>NaN</td>\n",
       "      <td>NaN</td>\n",
       "      <td>NaN</td>\n",
       "      <td>NaN</td>\n",
       "      <td>between 100,000 and 1 million</td>\n",
       "      <td>NaN</td>\n",
       "      <td>United States of America</td>\n",
       "      <td>education</td>\n",
       "      <td>Employed for wages</td>\n",
       "      <td>female</td>\n",
       "      <td>NaN</td>\n",
       "      <td>25.0</td>\n",
       "      <td>6000.0</td>\n",
       "      <td>Full-Stack Web Developer</td>\n",
       "      <td>some college credit, no degree</td>\n",
       "      <td>NaN</td>\n",
       "    </tr>\n",
       "  </tbody>\n",
       "</table>\n",
       "</div>"
      ],
      "text/plain": [
       "    Age  AttendedBootcamp  BootcampFinish  BootcampFullJobAfter  \\\n",
       "0  28.0               0.0             NaN                   NaN   \n",
       "1  22.0               0.0             NaN                   NaN   \n",
       "2  19.0               0.0             NaN                   NaN   \n",
       "3  26.0               0.0             NaN                   NaN   \n",
       "4  20.0               0.0             NaN                   NaN   \n",
       "\n",
       "   BootcampLoanYesNo  BootcampPostSalary  BootcampRecommend  ChildrenNumber  \\\n",
       "0                NaN                 NaN                NaN             NaN   \n",
       "1                NaN                 NaN                NaN             NaN   \n",
       "2                NaN                 NaN                NaN             NaN   \n",
       "3                NaN                 NaN                NaN             NaN   \n",
       "4                NaN                 NaN                NaN             NaN   \n",
       "\n",
       "                  CityPopulation  CodeEventBootcamp               CountryLive  \\\n",
       "0  between 100,000 and 1 million                NaN  United States of America   \n",
       "1  between 100,000 and 1 million                NaN  United States of America   \n",
       "2            more than 1 million                NaN  United States of America   \n",
       "3            more than 1 million                NaN  United States of America   \n",
       "4  between 100,000 and 1 million                NaN  United States of America   \n",
       "\n",
       "                         EmploymentField    EmploymentStatus  Gender  \\\n",
       "0      office and administrative support  Employed for wages    male   \n",
       "1                      food and beverage  Employed for wages    male   \n",
       "2                                finance  Employed for wages    male   \n",
       "3  arts, entertainment, sports, or media  Employed for wages  female   \n",
       "4                              education  Employed for wages  female   \n",
       "\n",
       "   HasChildren  HoursLearning   Income            JobRoleInterest  \\\n",
       "0          0.0           30.0  32000.0                        NaN   \n",
       "1          NaN           30.0  15000.0    Front-End Web Developer   \n",
       "2          NaN           20.0  48000.0                        NaN   \n",
       "3          NaN           20.0  43000.0    Front-End Web Developer   \n",
       "4          NaN           25.0   6000.0   Full-Stack Web Developer   \n",
       "\n",
       "                              SchoolDegree              SchoolMajor  \n",
       "0           some college credit, no degree                      NaN  \n",
       "1           some college credit, no degree                      NaN  \n",
       "2  high school diploma or equivalent (GED)                      NaN  \n",
       "3                        bachelor's degree  Cinematography And Film  \n",
       "4           some college credit, no degree                      NaN  "
      ]
     },
     "execution_count": 5,
     "metadata": {},
     "output_type": "execute_result"
    }
   ],
   "source": [
    "# Extract only columns 0, 1, 2, 3, 4, 7, 8, 9, 10, 11, 29, 30, 32, 36, 37, 45, 48, 56, 110, 111\n",
    "reduced_df = coders_df.iloc[:, [0, 1, 2, 3, 4, 7, 8, 9, 10, 11, 29, 30, 32, 36, 37, 45, 48, 56, 110, 111]]\n",
    "reduced_df.head()"
   ]
  },
  {
   "cell_type": "code",
   "execution_count": 6,
   "metadata": {},
   "outputs": [
    {
     "data": {
      "text/plain": [
       "15620"
      ]
     },
     "execution_count": 6,
     "metadata": {},
     "output_type": "execute_result"
    }
   ],
   "source": [
    "# Calculate total number of respondents in survey\n",
    "len(coders_df.index)\n"
   ]
  },
  {
   "cell_type": "code",
   "execution_count": 7,
   "metadata": {},
   "outputs": [
    {
     "data": {
      "text/plain": [
       "['Age',\n",
       " 'AttendedBootcamp',\n",
       " 'BootcampFinish',\n",
       " 'BootcampFullJobAfter',\n",
       " 'BootcampLoanYesNo',\n",
       " 'BootcampPostSalary',\n",
       " 'BootcampRecommend',\n",
       " 'ChildrenNumber',\n",
       " 'CityPopulation',\n",
       " 'CodeEventBootcamp',\n",
       " 'CountryLive',\n",
       " 'EmploymentField',\n",
       " 'EmploymentStatus',\n",
       " 'Gender',\n",
       " 'HasChildren',\n",
       " 'HoursLearning',\n",
       " 'Income',\n",
       " 'JobRoleInterest',\n",
       " 'SchoolDegree',\n",
       " 'SchoolMajor']"
      ]
     },
     "execution_count": 7,
     "metadata": {},
     "output_type": "execute_result"
    }
   ],
   "source": [
    "#list columns\n",
    "list(reduced_df)"
   ]
  },
  {
   "cell_type": "code",
   "execution_count": 8,
   "metadata": {},
   "outputs": [
    {
     "data": {
      "text/plain": [
       "15620"
      ]
     },
     "execution_count": 8,
     "metadata": {},
     "output_type": "execute_result"
    }
   ],
   "source": [
    "#total surveyed\n",
    "total_surveyed = len(reduced_df)\n",
    "total_surveyed"
   ]
  },
  {
   "cell_type": "code",
   "execution_count": 9,
   "metadata": {},
   "outputs": [
    {
     "data": {
      "text/html": [
       "<div>\n",
       "<style scoped>\n",
       "    .dataframe tbody tr th:only-of-type {\n",
       "        vertical-align: middle;\n",
       "    }\n",
       "\n",
       "    .dataframe tbody tr th {\n",
       "        vertical-align: top;\n",
       "    }\n",
       "\n",
       "    .dataframe thead th {\n",
       "        text-align: right;\n",
       "    }\n",
       "</style>\n",
       "<table border=\"1\" class=\"dataframe\">\n",
       "  <thead>\n",
       "    <tr style=\"text-align: right;\">\n",
       "      <th></th>\n",
       "      <th>Age</th>\n",
       "      <th>AttendedBootcamp</th>\n",
       "      <th>BootcampFinish</th>\n",
       "      <th>BootcampFullJobAfter</th>\n",
       "      <th>BootcampLoanYesNo</th>\n",
       "      <th>BootcampPostSalary</th>\n",
       "      <th>BootcampRecommend</th>\n",
       "      <th>ChildrenNumber</th>\n",
       "      <th>CityPopulation</th>\n",
       "      <th>CodeEventBootcamp</th>\n",
       "      <th>CountryLive</th>\n",
       "      <th>EmploymentField</th>\n",
       "      <th>EmploymentStatus</th>\n",
       "      <th>Gender</th>\n",
       "      <th>HasChildren</th>\n",
       "      <th>HoursLearning</th>\n",
       "      <th>Income</th>\n",
       "      <th>JobRoleInterest</th>\n",
       "      <th>SchoolDegree</th>\n",
       "      <th>SchoolMajor</th>\n",
       "    </tr>\n",
       "  </thead>\n",
       "  <tbody>\n",
       "    <tr>\n",
       "      <th>0</th>\n",
       "      <td>28.0</td>\n",
       "      <td>No</td>\n",
       "      <td>NaN</td>\n",
       "      <td>NaN</td>\n",
       "      <td>NaN</td>\n",
       "      <td>NaN</td>\n",
       "      <td>NaN</td>\n",
       "      <td>NaN</td>\n",
       "      <td>between 100,000 and 1 million</td>\n",
       "      <td>NaN</td>\n",
       "      <td>United States of America</td>\n",
       "      <td>office and administrative support</td>\n",
       "      <td>Employed for wages</td>\n",
       "      <td>male</td>\n",
       "      <td>No</td>\n",
       "      <td>30</td>\n",
       "      <td>32000.0</td>\n",
       "      <td>NaN</td>\n",
       "      <td>some college credit, no degree</td>\n",
       "      <td>NaN</td>\n",
       "    </tr>\n",
       "    <tr>\n",
       "      <th>1</th>\n",
       "      <td>22.0</td>\n",
       "      <td>No</td>\n",
       "      <td>NaN</td>\n",
       "      <td>NaN</td>\n",
       "      <td>NaN</td>\n",
       "      <td>NaN</td>\n",
       "      <td>NaN</td>\n",
       "      <td>NaN</td>\n",
       "      <td>between 100,000 and 1 million</td>\n",
       "      <td>NaN</td>\n",
       "      <td>United States of America</td>\n",
       "      <td>food and beverage</td>\n",
       "      <td>Employed for wages</td>\n",
       "      <td>male</td>\n",
       "      <td>NaN</td>\n",
       "      <td>30</td>\n",
       "      <td>15000.0</td>\n",
       "      <td>Front-End Web Developer</td>\n",
       "      <td>some college credit, no degree</td>\n",
       "      <td>NaN</td>\n",
       "    </tr>\n",
       "    <tr>\n",
       "      <th>2</th>\n",
       "      <td>19.0</td>\n",
       "      <td>No</td>\n",
       "      <td>NaN</td>\n",
       "      <td>NaN</td>\n",
       "      <td>NaN</td>\n",
       "      <td>NaN</td>\n",
       "      <td>NaN</td>\n",
       "      <td>NaN</td>\n",
       "      <td>more than 1 million</td>\n",
       "      <td>NaN</td>\n",
       "      <td>United States of America</td>\n",
       "      <td>finance</td>\n",
       "      <td>Employed for wages</td>\n",
       "      <td>male</td>\n",
       "      <td>NaN</td>\n",
       "      <td>20</td>\n",
       "      <td>48000.0</td>\n",
       "      <td>NaN</td>\n",
       "      <td>high school diploma or equivalent (GED)</td>\n",
       "      <td>NaN</td>\n",
       "    </tr>\n",
       "    <tr>\n",
       "      <th>3</th>\n",
       "      <td>26.0</td>\n",
       "      <td>No</td>\n",
       "      <td>NaN</td>\n",
       "      <td>NaN</td>\n",
       "      <td>NaN</td>\n",
       "      <td>NaN</td>\n",
       "      <td>NaN</td>\n",
       "      <td>NaN</td>\n",
       "      <td>more than 1 million</td>\n",
       "      <td>NaN</td>\n",
       "      <td>United States of America</td>\n",
       "      <td>arts, entertainment, sports, or media</td>\n",
       "      <td>Employed for wages</td>\n",
       "      <td>female</td>\n",
       "      <td>NaN</td>\n",
       "      <td>20</td>\n",
       "      <td>43000.0</td>\n",
       "      <td>Front-End Web Developer</td>\n",
       "      <td>bachelor's degree</td>\n",
       "      <td>Cinematography And Film</td>\n",
       "    </tr>\n",
       "    <tr>\n",
       "      <th>4</th>\n",
       "      <td>20.0</td>\n",
       "      <td>No</td>\n",
       "      <td>NaN</td>\n",
       "      <td>NaN</td>\n",
       "      <td>NaN</td>\n",
       "      <td>NaN</td>\n",
       "      <td>NaN</td>\n",
       "      <td>NaN</td>\n",
       "      <td>between 100,000 and 1 million</td>\n",
       "      <td>NaN</td>\n",
       "      <td>United States of America</td>\n",
       "      <td>education</td>\n",
       "      <td>Employed for wages</td>\n",
       "      <td>female</td>\n",
       "      <td>NaN</td>\n",
       "      <td>25</td>\n",
       "      <td>6000.0</td>\n",
       "      <td>Full-Stack Web Developer</td>\n",
       "      <td>some college credit, no degree</td>\n",
       "      <td>NaN</td>\n",
       "    </tr>\n",
       "  </tbody>\n",
       "</table>\n",
       "</div>"
      ],
      "text/plain": [
       "    Age AttendedBootcamp BootcampFinish BootcampFullJobAfter  \\\n",
       "0  28.0               No            NaN                  NaN   \n",
       "1  22.0               No            NaN                  NaN   \n",
       "2  19.0               No            NaN                  NaN   \n",
       "3  26.0               No            NaN                  NaN   \n",
       "4  20.0               No            NaN                  NaN   \n",
       "\n",
       "  BootcampLoanYesNo  BootcampPostSalary BootcampRecommend ChildrenNumber  \\\n",
       "0               NaN                 NaN               NaN            NaN   \n",
       "1               NaN                 NaN               NaN            NaN   \n",
       "2               NaN                 NaN               NaN            NaN   \n",
       "3               NaN                 NaN               NaN            NaN   \n",
       "4               NaN                 NaN               NaN            NaN   \n",
       "\n",
       "                  CityPopulation CodeEventBootcamp               CountryLive  \\\n",
       "0  between 100,000 and 1 million               NaN  United States of America   \n",
       "1  between 100,000 and 1 million               NaN  United States of America   \n",
       "2            more than 1 million               NaN  United States of America   \n",
       "3            more than 1 million               NaN  United States of America   \n",
       "4  between 100,000 and 1 million               NaN  United States of America   \n",
       "\n",
       "                         EmploymentField    EmploymentStatus  Gender  \\\n",
       "0      office and administrative support  Employed for wages    male   \n",
       "1                      food and beverage  Employed for wages    male   \n",
       "2                                finance  Employed for wages    male   \n",
       "3  arts, entertainment, sports, or media  Employed for wages  female   \n",
       "4                              education  Employed for wages  female   \n",
       "\n",
       "  HasChildren HoursLearning   Income            JobRoleInterest  \\\n",
       "0          No            30  32000.0                        NaN   \n",
       "1         NaN            30  15000.0    Front-End Web Developer   \n",
       "2         NaN            20  48000.0                        NaN   \n",
       "3         NaN            20  43000.0    Front-End Web Developer   \n",
       "4         NaN            25   6000.0   Full-Stack Web Developer   \n",
       "\n",
       "                              SchoolDegree              SchoolMajor  \n",
       "0           some college credit, no degree                      NaN  \n",
       "1           some college credit, no degree                      NaN  \n",
       "2  high school diploma or equivalent (GED)                      NaN  \n",
       "3                        bachelor's degree  Cinematography And Film  \n",
       "4           some college credit, no degree                      NaN  "
      ]
     },
     "execution_count": 9,
     "metadata": {},
     "output_type": "execute_result"
    }
   ],
   "source": [
    "# Change \"0\" to \"No\" and \"1\" to \"Yes\" in response columns\n",
    "reduced_df= reduced_df.replace({0.0: \"No\", 1.0: \"yes\"})\n",
    "reduced_df.head()"
   ]
  },
  {
   "cell_type": "code",
   "execution_count": 10,
   "metadata": {},
   "outputs": [
    {
     "data": {
      "text/plain": [
       "Age                     818\n",
       "AttendedBootcamp        953\n",
       "BootcampFinish          933\n",
       "BootcampFullJobAfter    635\n",
       "BootcampLoanYesNo       934\n",
       "BootcampPostSalary      330\n",
       "BootcampRecommend       937\n",
       "ChildrenNumber          148\n",
       "CityPopulation          823\n",
       "CodeEventBootcamp        27\n",
       "CountryLive             825\n",
       "EmploymentField         476\n",
       "EmploymentStatus        792\n",
       "Gender                  833\n",
       "HasChildren             211\n",
       "HoursLearning           925\n",
       "Income                  430\n",
       "JobRoleInterest         402\n",
       "SchoolDegree            832\n",
       "SchoolMajor             622\n",
       "dtype: int64"
      ]
     },
     "execution_count": 10,
     "metadata": {},
     "output_type": "execute_result"
    }
   ],
   "source": [
    "# Extract rows corresponding only to people who attended a bootcamp\n",
    "attended = reduced_df.loc[reduced_df[\"AttendedBootcamp\"] == \"yes\"]\n",
    "attended.count()"
   ]
  },
  {
   "cell_type": "code",
   "execution_count": 11,
   "metadata": {},
   "outputs": [
    {
     "data": {
      "text/plain": [
       "31"
      ]
     },
     "execution_count": 11,
     "metadata": {},
     "output_type": "execute_result"
    }
   ],
   "source": [
    "# Calculate average age of attendees\n",
    "average_age= attended[\"Age\"].mean()\n",
    "round(average_age)"
   ]
  },
  {
   "cell_type": "code",
   "execution_count": 12,
   "metadata": {},
   "outputs": [
    {
     "data": {
      "text/plain": [
       "953"
      ]
     },
     "execution_count": 12,
     "metadata": {},
     "output_type": "execute_result"
    }
   ],
   "source": [
    "# Calculate how many people attended a bootcamp\n",
    "boot_attend=coders_df[\"AttendedBootcamp\"].sum()\n",
    "boot_attend.astype(int)"
   ]
  },
  {
   "cell_type": "code",
   "execution_count": 13,
   "metadata": {},
   "outputs": [
    {
     "data": {
      "text/plain": [
       "832"
      ]
     },
     "execution_count": 13,
     "metadata": {},
     "output_type": "execute_result"
    }
   ],
   "source": [
    "#Count number of attendees hold degrees\n",
    "degree_held= attended[\"SchoolDegree\"].count()\n",
    "degree_held\n"
   ]
  },
  {
   "cell_type": "code",
   "execution_count": 14,
   "metadata": {},
   "outputs": [
    {
     "data": {
      "text/plain": [
       "833"
      ]
     },
     "execution_count": 14,
     "metadata": {},
     "output_type": "execute_result"
    }
   ],
   "source": [
    "# Count number of attendees who self-identify as male; female; or are of non-binary gender identification\n",
    "total_gender = attended[\"Gender\"].count()\n",
    "total_gender"
   ]
  },
  {
   "cell_type": "code",
   "execution_count": 15,
   "metadata": {},
   "outputs": [
    {
     "data": {
      "text/plain": [
       "496"
      ]
     },
     "execution_count": 15,
     "metadata": {},
     "output_type": "execute_result"
    }
   ],
   "source": [
    "male = attended[\"Gender\"].value_counts()['male']\n",
    "male"
   ]
  },
  {
   "cell_type": "code",
   "execution_count": 16,
   "metadata": {},
   "outputs": [
    {
     "data": {
      "text/plain": [
       "326"
      ]
     },
     "execution_count": 16,
     "metadata": {},
     "output_type": "execute_result"
    }
   ],
   "source": [
    "female = attended[\"Gender\"].value_counts()['female']\n",
    "female"
   ]
  },
  {
   "cell_type": "code",
   "execution_count": 17,
   "metadata": {},
   "outputs": [
    {
     "data": {
      "text/plain": [
       "11"
      ]
     },
     "execution_count": 17,
     "metadata": {},
     "output_type": "execute_result"
    }
   ],
   "source": [
    "non_binary = total_gender - male - female\n",
    "non_binary"
   ]
  },
  {
   "cell_type": "code",
   "execution_count": 18,
   "metadata": {},
   "outputs": [
    {
     "data": {
      "text/plain": [
       "6.101152368758003"
      ]
     },
     "execution_count": 18,
     "metadata": {},
     "output_type": "execute_result"
    }
   ],
   "source": [
    "# Calculate percentage of respondents who attended a bootcamp .map({\":,2f:}%\".format)\n",
    "percent_attend = boot_attend / total_surveyed*100\n",
    "percent_attend"
   ]
  },
  {
   "cell_type": "code",
   "execution_count": 19,
   "metadata": {},
   "outputs": [
    {
     "data": {
      "text/plain": [
       "59.5438175270108"
      ]
     },
     "execution_count": 19,
     "metadata": {},
     "output_type": "execute_result"
    }
   ],
   "source": [
    "#percentage each gender\n",
    "male_percent = (male/total_gender)*100\n",
    "male_percent"
   ]
  },
  {
   "cell_type": "code",
   "execution_count": 20,
   "metadata": {},
   "outputs": [
    {
     "data": {
      "text/plain": [
       "39.13565426170468"
      ]
     },
     "execution_count": 20,
     "metadata": {},
     "output_type": "execute_result"
    }
   ],
   "source": [
    "female_percent = (female/total_gender)*100\n",
    "female_percent"
   ]
  },
  {
   "cell_type": "code",
   "execution_count": 21,
   "metadata": {},
   "outputs": [
    {
     "data": {
      "text/plain": [
       "1.3205282112845138"
      ]
     },
     "execution_count": 21,
     "metadata": {},
     "output_type": "execute_result"
    }
   ],
   "source": [
    "non_binary_percent = (non_binary/total_gender)*100\n",
    "non_binary_percent"
   ]
  },
  {
   "cell_type": "code",
   "execution_count": 22,
   "metadata": {},
   "outputs": [
    {
     "data": {
      "text/plain": [
       "87.30325288562435"
      ]
     },
     "execution_count": 22,
     "metadata": {},
     "output_type": "execute_result"
    }
   ],
   "source": [
    "# Calculate percentage of attendees with a school degree\n",
    "degree_percent = (degree_held/boot_attend)*100\n",
    "degree_percent"
   ]
  },
  {
   "cell_type": "code",
   "execution_count": 23,
   "metadata": {},
   "outputs": [
    {
     "data": {
      "text/plain": [
       "63740.50606060606"
      ]
     },
     "execution_count": 23,
     "metadata": {},
     "output_type": "execute_result"
    }
   ],
   "source": [
    "# Calculate average post-bootcamp salary\n",
    "bootcamp_post_salary = reduced_df[\"BootcampPostSalary\"].mean()\n",
    "bootcamp_post_salary"
   ]
  },
  {
   "cell_type": "code",
   "execution_count": 1,
   "metadata": {},
   "outputs": [
    {
     "ename": "NameError",
     "evalue": "name 'pd' is not defined",
     "output_type": "error",
     "traceback": [
      "\u001b[0;31m---------------------------------------------------------------------------\u001b[0m",
      "\u001b[0;31mNameError\u001b[0m                                 Traceback (most recent call last)",
      "\u001b[0;32m<ipython-input-1-a4e954c5145a>\u001b[0m in \u001b[0;36m<module>\u001b[0;34m\u001b[0m\n\u001b[1;32m      1\u001b[0m \u001b[0;31m# Create a new table consolodating above calculations\u001b[0m\u001b[0;34m\u001b[0m\u001b[0;34m\u001b[0m\u001b[0;34m\u001b[0m\u001b[0m\n\u001b[0;32m----> 2\u001b[0;31m boot_table= pd.DataFrame({\"Total Surveyed\": [total_surveyed],\n\u001b[0m\u001b[1;32m      3\u001b[0m                          \u001b[0;34m\"Total Attendees\"\u001b[0m\u001b[0;34m:\u001b[0m \u001b[0;34m[\u001b[0m\u001b[0mboot_attend\u001b[0m\u001b[0;34m]\u001b[0m\u001b[0;34m,\u001b[0m\u001b[0;34m\u001b[0m\u001b[0;34m\u001b[0m\u001b[0m\n\u001b[1;32m      4\u001b[0m                          \u001b[0;34m\"Percent Attended\"\u001b[0m\u001b[0;34m:\u001b[0m \u001b[0;34m[\u001b[0m\u001b[0mpercent_attend\u001b[0m\u001b[0;34m]\u001b[0m\u001b[0;34m,\u001b[0m\u001b[0;34m\u001b[0m\u001b[0;34m\u001b[0m\u001b[0m\n\u001b[1;32m      5\u001b[0m                          \u001b[0;34m\"Average Age\"\u001b[0m\u001b[0;34m:\u001b[0m \u001b[0;34m[\u001b[0m\u001b[0maverage_age\u001b[0m\u001b[0;34m]\u001b[0m\u001b[0;34m,\u001b[0m\u001b[0;34m\u001b[0m\u001b[0;34m\u001b[0m\u001b[0m\n",
      "\u001b[0;31mNameError\u001b[0m: name 'pd' is not defined"
     ]
    }
   ],
   "source": [
    "# Create a new table consolodating above calculations\n",
    "boot_table= pd.DataFrame({\"Total Surveyed\": [total_surveyed],\n",
    "                         \"Total Attendees\": [boot_attend],\n",
    "                         \"Percent Attended\": [percent_attend],\n",
    "                         \"Average Age\": [average_age],\n",
    "                         \"Percent Male\": [male_percent],\n",
    "                         \"Percent Female\": [female_percent],\n",
    "                         \"Percent Non Binary\": [non_binary_percent],\n",
    "                        \"Percent with Degree\": [degree_percent],\n",
    "                         \"Average Post Camp Salary\": [bootcamp_post_salary]})\n",
    "\n",
    "boot_table = boot_table[[\"Total Surveyed\",\"Total Attendees\",\"Percent Attended\",\"Average Age\",\"Percent Male\",\n",
    "                         \"Percent Female\",\"Percent Non Binary\",\"Percent Non Binary\", \"Average Post Camp Salary\"]]\n",
    "\n",
    "boot_table = boot_table.round(2)\n",
    "boot_table.head\n"
   ]
  },
  {
   "cell_type": "code",
   "execution_count": 30,
   "metadata": {},
   "outputs": [
    {
     "ename": "TypeError",
     "evalue": "unsupported format string passed to tuple.__format__",
     "output_type": "error",
     "traceback": [
      "\u001b[0;31m---------------------------------------------------------------------------\u001b[0m",
      "\u001b[0;31mTypeError\u001b[0m                                 Traceback (most recent call last)",
      "\u001b[0;32m<ipython-input-30-97b38345eb49>\u001b[0m in \u001b[0;36m<module>\u001b[0;34m\u001b[0m\n\u001b[1;32m      1\u001b[0m \u001b[0;31m# Improve formatting before outputting spreadsheet .map(\"{0:,.2f}%\".format)\u001b[0m\u001b[0;34m\u001b[0m\u001b[0;34m\u001b[0m\u001b[0;34m\u001b[0m\u001b[0m\n\u001b[0;32m----> 2\u001b[0;31m \u001b[0mboot_table\u001b[0m\u001b[0;34m[\u001b[0m\u001b[0;34m\"Percent Male\"\u001b[0m\u001b[0;34m]\u001b[0m\u001b[0;34m=\u001b[0m\u001b[0mboot_table\u001b[0m\u001b[0;34m[\u001b[0m\u001b[0;34m\"Percent Male\"\u001b[0m\u001b[0;34m]\u001b[0m\u001b[0;34m.\u001b[0m\u001b[0mmap\u001b[0m\u001b[0;34m(\u001b[0m\u001b[0;34m\"{0:,.2f}%\"\u001b[0m\u001b[0;34m.\u001b[0m\u001b[0mformat\u001b[0m\u001b[0;34m)\u001b[0m\u001b[0;34m\u001b[0m\u001b[0;34m\u001b[0m\u001b[0m\n\u001b[0m",
      "\u001b[0;32m//anaconda3/lib/python3.7/site-packages/pandas/core/series.py\u001b[0m in \u001b[0;36mmap\u001b[0;34m(self, arg, na_action)\u001b[0m\n\u001b[1;32m   3380\u001b[0m         \"\"\"\n\u001b[1;32m   3381\u001b[0m         new_values = super(Series, self)._map_values(\n\u001b[0;32m-> 3382\u001b[0;31m             arg, na_action=na_action)\n\u001b[0m\u001b[1;32m   3383\u001b[0m         return self._constructor(new_values,\n\u001b[1;32m   3384\u001b[0m                                  index=self.index).__finalize__(self)\n",
      "\u001b[0;32m//anaconda3/lib/python3.7/site-packages/pandas/core/base.py\u001b[0m in \u001b[0;36m_map_values\u001b[0;34m(self, mapper, na_action)\u001b[0m\n\u001b[1;32m   1216\u001b[0m \u001b[0;34m\u001b[0m\u001b[0m\n\u001b[1;32m   1217\u001b[0m         \u001b[0;31m# mapper is a function\u001b[0m\u001b[0;34m\u001b[0m\u001b[0;34m\u001b[0m\u001b[0;34m\u001b[0m\u001b[0m\n\u001b[0;32m-> 1218\u001b[0;31m         \u001b[0mnew_values\u001b[0m \u001b[0;34m=\u001b[0m \u001b[0mmap_f\u001b[0m\u001b[0;34m(\u001b[0m\u001b[0mvalues\u001b[0m\u001b[0;34m,\u001b[0m \u001b[0mmapper\u001b[0m\u001b[0;34m)\u001b[0m\u001b[0;34m\u001b[0m\u001b[0;34m\u001b[0m\u001b[0m\n\u001b[0m\u001b[1;32m   1219\u001b[0m \u001b[0;34m\u001b[0m\u001b[0m\n\u001b[1;32m   1220\u001b[0m         \u001b[0;32mreturn\u001b[0m \u001b[0mnew_values\u001b[0m\u001b[0;34m\u001b[0m\u001b[0;34m\u001b[0m\u001b[0m\n",
      "\u001b[0;32mpandas/_libs/lib.pyx\u001b[0m in \u001b[0;36mpandas._libs.lib.map_infer\u001b[0;34m()\u001b[0m\n",
      "\u001b[0;31mTypeError\u001b[0m: unsupported format string passed to tuple.__format__"
     ]
    }
   ],
   "source": [
    "# Improve formatting before outputting spreadsheet .map(\"{0:,.2f}%\".format)\n",
    "boot_table[\"Percent Male\"]=boot_table[\"Percent Male\"].map(\"{0:,.2f}%\".format)\n",
    "boot_table[\"Percent Female\"]=boot_table[\"Percent Female\"].map(\"{0:,.2f}%\".format),\n",
    "boot_table[\"Percent Non Binary\"]=boot_table[\"Percent Non Binary\"].map(\"{0:,.2f}%\".format),\n",
    "boot_table[\"Percent Attended\"]=boot_table[\"Percent Attended\"].map(\"{0:,.2f}%\".format),\n",
    "boot_table[\"Percent with Degree\"]=boot_table[\"Percent with Degree\"].map(\"{0:,.2f}%\".format),\n",
    "boot_table[\"Average Post Camp Salary\"]=boot_table[\"Average Post Camp Salary\"].map(\"${0:,.0f}%\".format),\n",
    "boot_table\n"
   ]
  },
  {
   "cell_type": "code",
   "execution_count": null,
   "metadata": {},
   "outputs": [],
   "source": [
    "# Export to Excel\n",
    "boot_table.to_excel(\"output/BootcampHW_CK.xlsx\", index= False, header=True)"
   ]
  },
  {
   "cell_type": "code",
   "execution_count": null,
   "metadata": {},
   "outputs": [],
   "source": []
  }
 ],
 "metadata": {
  "anaconda-cloud": {},
  "kernelspec": {
   "display_name": "Python 3",
   "language": "python",
   "name": "python3"
  },
  "language_info": {
   "codemirror_mode": {
    "name": "ipython",
    "version": 3
   },
   "file_extension": ".py",
   "mimetype": "text/x-python",
   "name": "python",
   "nbconvert_exporter": "python",
   "pygments_lexer": "ipython3",
   "version": "3.7.3"
  }
 },
 "nbformat": 4,
 "nbformat_minor": 2
}
