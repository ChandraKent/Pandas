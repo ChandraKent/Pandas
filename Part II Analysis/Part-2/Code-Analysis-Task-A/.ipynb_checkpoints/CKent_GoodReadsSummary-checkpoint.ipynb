{
 "cells": [
  {
   "cell_type": "markdown",
   "metadata": {},
   "source": [
    "# Good Reads Summary\n",
    "\n",
    "#### The objective of this assignment is for you to explain what is happening in each cell in clear, understandable language. \n",
    "\n",
    "#### _There is no need to code._ The code is there for you, and it already runs. Your task is only to explain what each line in each cell does.\n",
    "\n",
    "#### The placeholder cells should describe what happens in the cell below it."
   ]
  },
  {
   "cell_type": "markdown",
   "metadata": {},
   "source": [
    "**Example**: The cell below imports `pandas` as a dependency because `pandas` functions will be used throughout the program, such as the Pandas `DataFrame` as well as the `read_csv` function."
   ]
  },
  {
   "cell_type": "code",
   "execution_count": 1,
   "metadata": {},
   "outputs": [],
   "source": [
    "import pandas as pd"
   ]
  },
  {
   "cell_type": "markdown",
   "metadata": {},
   "source": [
    "_[Replace this with your clear explanation of what happens in the cell below. Briefly explain why character encoding is necessary.]_"
   ]
  },
  {
   "cell_type": "code",
   "execution_count": 3,
   "metadata": {},
   "outputs": [],
   "source": [
    "# 1. Assign a variable for the file we are pulling in\n",
    "# 2. Use Pandas to make a data frame out of the csv file. The encoding='utf-8' is to ensure\n",
    "# there are no issues with windows character map fonts\n",
    "# 3. Display the dataframe starting from the top"
   ]
  },
  {
   "cell_type": "code",
   "execution_count": 4,
   "metadata": {},
   "outputs": [
    {
     "data": {
      "text/html": [
       "<div>\n",
       "<style scoped>\n",
       "    .dataframe tbody tr th:only-of-type {\n",
       "        vertical-align: middle;\n",
       "    }\n",
       "\n",
       "    .dataframe tbody tr th {\n",
       "        vertical-align: top;\n",
       "    }\n",
       "\n",
       "    .dataframe thead th {\n",
       "        text-align: right;\n",
       "    }\n",
       "</style>\n",
       "<table border=\"1\" class=\"dataframe\">\n",
       "  <thead>\n",
       "    <tr style=\"text-align: right;\">\n",
       "      <th></th>\n",
       "      <th>ISBN</th>\n",
       "      <th>Publication Year</th>\n",
       "      <th>Original Title</th>\n",
       "      <th>Authors</th>\n",
       "      <th>One Star Reviews</th>\n",
       "      <th>Two Star Reviews</th>\n",
       "      <th>Three Star Reviews</th>\n",
       "      <th>Four Star Reviews</th>\n",
       "      <th>Five Star Reviews</th>\n",
       "    </tr>\n",
       "  </thead>\n",
       "  <tbody>\n",
       "    <tr>\n",
       "      <th>0</th>\n",
       "      <td>439023483</td>\n",
       "      <td>2008.0</td>\n",
       "      <td>The Hunger Games</td>\n",
       "      <td>Suzanne Collins</td>\n",
       "      <td>66715</td>\n",
       "      <td>127936</td>\n",
       "      <td>560092</td>\n",
       "      <td>1481305</td>\n",
       "      <td>2706317</td>\n",
       "    </tr>\n",
       "    <tr>\n",
       "      <th>1</th>\n",
       "      <td>439554934</td>\n",
       "      <td>1997.0</td>\n",
       "      <td>Harry Potter and the Philosopher's Stone</td>\n",
       "      <td>J.K. Rowling, Mary GrandPré</td>\n",
       "      <td>75504</td>\n",
       "      <td>101676</td>\n",
       "      <td>455024</td>\n",
       "      <td>1156318</td>\n",
       "      <td>3011543</td>\n",
       "    </tr>\n",
       "    <tr>\n",
       "      <th>2</th>\n",
       "      <td>316015849</td>\n",
       "      <td>2005.0</td>\n",
       "      <td>Twilight</td>\n",
       "      <td>Stephenie Meyer</td>\n",
       "      <td>456191</td>\n",
       "      <td>436802</td>\n",
       "      <td>793319</td>\n",
       "      <td>875073</td>\n",
       "      <td>1355439</td>\n",
       "    </tr>\n",
       "    <tr>\n",
       "      <th>3</th>\n",
       "      <td>61120081</td>\n",
       "      <td>1960.0</td>\n",
       "      <td>To Kill a Mockingbird</td>\n",
       "      <td>Harper Lee</td>\n",
       "      <td>60427</td>\n",
       "      <td>117415</td>\n",
       "      <td>446835</td>\n",
       "      <td>1001952</td>\n",
       "      <td>1714267</td>\n",
       "    </tr>\n",
       "    <tr>\n",
       "      <th>4</th>\n",
       "      <td>743273567</td>\n",
       "      <td>1925.0</td>\n",
       "      <td>The Great Gatsby</td>\n",
       "      <td>F. Scott Fitzgerald</td>\n",
       "      <td>86236</td>\n",
       "      <td>197621</td>\n",
       "      <td>606158</td>\n",
       "      <td>936012</td>\n",
       "      <td>947718</td>\n",
       "    </tr>\n",
       "  </tbody>\n",
       "</table>\n",
       "</div>"
      ],
      "text/plain": [
       "        ISBN  Publication Year                            Original Title  \\\n",
       "0  439023483            2008.0                          The Hunger Games   \n",
       "1  439554934            1997.0  Harry Potter and the Philosopher's Stone   \n",
       "2  316015849            2005.0                                  Twilight   \n",
       "3   61120081            1960.0                     To Kill a Mockingbird   \n",
       "4  743273567            1925.0                          The Great Gatsby   \n",
       "\n",
       "                       Authors  One Star Reviews  Two Star Reviews  \\\n",
       "0              Suzanne Collins             66715            127936   \n",
       "1  J.K. Rowling, Mary GrandPré             75504            101676   \n",
       "2              Stephenie Meyer            456191            436802   \n",
       "3                   Harper Lee             60427            117415   \n",
       "4          F. Scott Fitzgerald             86236            197621   \n",
       "\n",
       "   Three Star Reviews  Four Star Reviews  Five Star Reviews  \n",
       "0              560092            1481305            2706317  \n",
       "1              455024            1156318            3011543  \n",
       "2              793319             875073            1355439  \n",
       "3              446835            1001952            1714267  \n",
       "4              606158             936012             947718  "
      ]
     },
     "execution_count": 4,
     "metadata": {},
     "output_type": "execute_result"
    }
   ],
   "source": [
    "goodreads_path = \"Resources/books_clean.csv\"\n",
    "\n",
    "goodreads_df = pd.read_csv(goodreads_path, encoding=\"utf-8\")\n",
    "goodreads_df.head()"
   ]
  },
  {
   "cell_type": "markdown",
   "metadata": {},
   "source": [
    "_[Replace this with your clear explanation of what happens in the cell below. Be sure to explain what is happening with the `iloc` function as well as what is happening with the `axis` setting.]_"
   ]
  },
  {
   "cell_type": "code",
   "execution_count": 6,
   "metadata": {},
   "outputs": [],
   "source": [
    "#1. Get the total number (\"length\") of Authors on the list. Unique names, no duplicates incase\n",
    "# multiple books have been writen per author.\n",
    "#3. Find the very first published book on the list, .min() finds lowest number, assign to variable\n",
    "#4. Find the latest books published on the list, .max() finds the greatest number, assign to variabl\n",
    "#6. Making a new variable, isolating the series of \"Total Reviews\", Index 4, and getting the sum of the\n",
    "#   column. The first \":\", in \"[:, 4:]\" indicates to searach all rows.\n",
    "#   Axis = 1 indicated that you will be summing up the verticle axis yielding total Book Reviews in the DF\n",
    "#7. Sets the variable to your iloc function in order to display"
   ]
  },
  {
   "cell_type": "code",
   "execution_count": 5,
   "metadata": {},
   "outputs": [],
   "source": [
    "author_count = len(goodreads_df[\"Authors\"].unique())\n",
    "\n",
    "earliest_year = goodreads_df[\"Publication Year\"].min()\n",
    "latest_year = goodreads_df[\"Publication Year\"].max()\n",
    "\n",
    "goodreads_df['Total Reviews'] = goodreads_df.iloc[:, 4:].sum(axis=1)\n",
    "total_reviews = sum(goodreads_df['Total Reviews'])"
   ]
  },
  {
   "cell_type": "markdown",
   "metadata": {},
   "source": [
    "_[Replace this with your clear explanation of what happens in the cell below. Indicate whether this is being created as a **list of dictionaries**, a **dictionary of lists**, or **something else**. Lastly, explain why `author_count` needs to be enclosed in square brackets.]_"
   ]
  },
  {
   "cell_type": "code",
   "execution_count": null,
   "metadata": {},
   "outputs": [],
   "source": [
    "# The summary_table will qualify as a list of dictionaries.\n",
    "# In Total Unique Authors the dictionary is returning a list because ther were more than 1 Author\n",
    "# The rest of the dictionaries, are only returning 1 value each. "
   ]
  },
  {
   "cell_type": "code",
   "execution_count": null,
   "metadata": {},
   "outputs": [],
   "source": [
    "summary_table = pd.DataFrame({\"Total Unique Authors\": [author_count],\n",
    "                              \"Earliest Year\": earliest_year,\n",
    "                              \"Latest Year\": latest_year,\n",
    "                              \"Total Reviews\": total_reviews})\n",
    "summary_table"
   ]
  }
 ],
 "metadata": {
  "kernelspec": {
   "display_name": "Python 3",
   "language": "python",
   "name": "python3"
  },
  "language_info": {
   "codemirror_mode": {
    "name": "ipython",
    "version": 3
   },
   "file_extension": ".py",
   "mimetype": "text/x-python",
   "name": "python",
   "nbconvert_exporter": "python",
   "pygments_lexer": "ipython3",
   "version": "3.7.3"
  }
 },
 "nbformat": 4,
 "nbformat_minor": 2
}
